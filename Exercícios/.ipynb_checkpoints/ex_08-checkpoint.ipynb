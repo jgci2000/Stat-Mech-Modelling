{
 "cells": [
  {
   "cell_type": "code",
   "execution_count": 1,
   "metadata": {},
   "outputs": [],
   "source": [
    "import numpy as np\n",
    "import matplotlib.pyplot as plt\n",
    "from scipy.special import gammainc, gammaincinv, gamma\n",
    "from scipy.stats import norm"
   ]
  },
  {
   "cell_type": "code",
   "execution_count": 2,
   "metadata": {},
   "outputs": [
    {
     "name": "stdout",
     "output_type": "stream",
     "text": [
      "Simulated values\n",
      "-0.0946\n",
      "10.0594359106264\n",
      "Theoretical values\n",
      "0.0\n",
      "100.0\n"
     ]
    }
   ],
   "source": [
    "# a)\n",
    "\n",
    "max_t = 100\n",
    "n_run = 100\n",
    "a = 1\n",
    "q = 0.5\n",
    "\n",
    "X = np.zeros(n_run)\n",
    "\n",
    "for run in range(n_run):\n",
    "    S = np.zeros(max_t)\n",
    "    S[0] = a\n",
    "\n",
    "    for t in range(max_t):\n",
    "        if np.random.rand(1) <= q:\n",
    "            S[t] = a\n",
    "        else:\n",
    "            S[t] = - a\n",
    "    X[run] = np.sum(S)\n",
    "\n",
    "mu, std = norm.fit(X)\n",
    "\n",
    "print(\"Simulated values\")\n",
    "print(mu)\n",
    "print(std)\n",
    "\n",
    "print(\"Theoretical values\")\n",
    "print((2 * q - 1) * a)\n",
    "print(4 * q * (1 - q) * a**2 * max_t)\n"
   ]
  },
  {
   "cell_type": "code",
   "execution_count": null,
   "metadata": {},
   "outputs": [],
   "source": [
    "# b)\n",
    "\n",
    "\n"
   ]
  }
 ],
 "metadata": {
  "kernelspec": {
   "display_name": "Python 3",
   "language": "python",
   "name": "python3"
  },
  "language_info": {
   "codemirror_mode": {
    "name": "ipython",
    "version": 3
   },
   "file_extension": ".py",
   "mimetype": "text/x-python",
   "name": "python",
   "nbconvert_exporter": "python",
   "pygments_lexer": "ipython3",
   "version": "3.8.6"
  }
 },
 "nbformat": 4,
 "nbformat_minor": 4
}
