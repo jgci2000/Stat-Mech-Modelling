{
 "cells": [
  {
   "cell_type": "code",
   "execution_count": 1,
   "metadata": {},
   "outputs": [],
   "source": [
    "import numpy as np\n",
    "import matplotlib.pyplot as plt\n",
    "from scipy.special import gammainc, gammaincinv, gamma"
   ]
  },
  {
   "cell_type": "code",
   "execution_count": 11,
   "metadata": {},
   "outputs": [],
   "source": [
    "def p(x_values):\n",
    "    return_p = np.zeros(len(x_values))\n",
    "    \n",
    "    i = -1\n",
    "    for x in x_values:\n",
    "        i += 1\n",
    "        if x <= 1:\n",
    "            return_p[i] = (9 / 4) * x**2\n",
    "        else:\n",
    "            return_p[i] = (9 / 4) * x**(-10)\n",
    "    \n",
    "    return return_p\n"
   ]
  },
  {
   "cell_type": "code",
   "execution_count": 45,
   "metadata": {},
   "outputs": [
    {
     "name": "stdout",
     "output_type": "stream",
     "text": [
      "[1.02823886 1.02761595 1.03655854 1.10918706 1.02491343 1.09473866\n",
      " 1.0796279  1.01703726 1.06985237 1.03119546]\n"
     ]
    },
    {
     "name": "stderr",
     "output_type": "stream",
     "text": [
      "<ipython-input-45-54bdcb72d48a>:9: RuntimeWarning: invalid value encountered in power\n",
      "  x_i = (4 * r - 2)**(-1/9)\n"
     ]
    },
    {
     "data": {
      "image/png": "[encoded data removed]",
      "text/plain": [
       "<Figure size 432x288 with 1 Axes>"
      ]
     },
     "metadata": {
      "needs_background": "light"
     },
     "output_type": "display_data"
    }
   ],
   "source": [
    "n_pnts = 10\n",
    "\n",
    "x = np.zeros(n_pnts)\n",
    "x_max = 6\n",
    "n = 0\n",
    "\n",
    "while n < n_pnts:\n",
    "    r = np.random.rand(1)\n",
    "    x_i = (4 * r - 2)**(-1/9)\n",
    "    \n",
    "    if x_i > 1 and x_i <= x_max:\n",
    "        x[n] = x_i\n",
    "        n += 1\n",
    "    elif x_i <= 1:\n",
    "        x[n] = (4 * r / 3)**(1/3)\n",
    "        n += 1\n",
    "print(x)\n",
    "\n",
    "x_max = np.max(x)\n",
    "n_bins = 20\n",
    "dx = (x_max - 0) / n_bins\n",
    "\n",
    "values, bins = np.histogram(x, bins=np.arange(0, x_max, dx))\n",
    "values = values / (dx * np.sum(values))\n",
    "\n",
    "dx = 0.001\n",
    "x_values = np.arange(0, x_max, dx)\n",
    "\n",
    "plt.figure(1)\n",
    "plt.plot(x_values, p(x_values), '-b')\n",
    "plt.plot(bins[:-1], values, '*r')\n",
    "\n",
    "plt.axis([0, 6, 0, 3])\n",
    "\n",
    "plt.show()\n"
   ]
  },
  {
   "cell_type": "code",
   "execution_count": null,
   "metadata": {},
   "outputs": [],
   "source": []
  }
 ],
 "metadata": {
  "kernelspec": {
   "display_name": "Python 3",
   "language": "python",
   "name": "python3"
  },
  "language_info": {
   "codemirror_mode": {
    "name": "ipython",
    "version": 3
   },
   "file_extension": ".py",
   "mimetype": "text/x-python",
   "name": "python",
   "nbconvert_exporter": "python",
   "pygments_lexer": "ipython3",
   "version": "3.8.6"
  }
 },
 "nbformat": 4,
 "nbformat_minor": 4
}
