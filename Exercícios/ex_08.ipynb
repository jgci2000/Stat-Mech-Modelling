{
 "cells": [
  {
   "cell_type": "code",
   "execution_count": 1,
   "metadata": {},
   "outputs": [],
   "source": [
    "import numpy as np\n",
    "import matplotlib.pyplot as plt\n",
    "from scipy.special import gammainc, gammaincinv, gamma\n",
    "from scipy.stats import norm"
   ]
  },
  {
   "cell_type": "code",
   "execution_count": 14,
   "metadata": {},
   "outputs": [
    {
     "name": "stdout",
     "output_type": "stream",
     "text": [
      "10.014080087556719\n",
      "Simulated values\n",
      "-0.1486\n",
      "10.005554359454553\n",
      "Theoretical values\n",
      "0.0\n",
      "10.0\n"
     ]
    },
    {
     "data": {
      "image/png": "[encoded data removed]",
      "text/plain": [
       "<Figure size 432x288 with 1 Axes>"
      ]
     },
     "metadata": {
      "needs_background": "light"
     },
     "output_type": "display_data"
    }
   ],
   "source": [
    "# a)\n",
    "\n",
    "max_t = 100\n",
    "n_run = 10000\n",
    "a = 1\n",
    "q = 0.5\n",
    "\n",
    "X = np.zeros(n_run)\n",
    "\n",
    "for run in range(n_run):\n",
    "    S = np.zeros(max_t)\n",
    "    S[0] = a\n",
    "\n",
    "    for t in range(max_t):\n",
    "        if np.random.rand(1) <= q:\n",
    "            S[t] = a\n",
    "        else:\n",
    "            S[t] = - a\n",
    "    X[run] = np.sum(S)\n",
    "\n",
    "x_max = np.max(X)\n",
    "x_min = np.min(X)\n",
    "n = 20\n",
    "dx = (x_max - x_min)/n\n",
    "\n",
    "values, bins = np.histogram(X, bins=np.arange(x_min + dx/2, x_max + dx/2, dx))\n",
    "values = values / (np.sum(values) + dx)\n",
    "\n",
    "plt.plot(bins[:-1], values, '*r')\n",
    "\n",
    "X_mean = 0\n",
    "X_mean2 = 0\n",
    "for i in range(n_run):\n",
    "    X_mean += X[i]\n",
    "    X_mean2 += X[i]**2\n",
    "\n",
    "X_mean /= n_run\n",
    "X_mean2 /= n_run\n",
    "\n",
    "std= np.sqrt(X_mean2 - X_mean)\n",
    "print(std)\n",
    "    \n",
    "mu, std = norm.fit(X)\n",
    "\n",
    "print(\"Simulated values\")\n",
    "print(mu)\n",
    "print(std)\n",
    "\n",
    "print(\"Theoretical values\")\n",
    "print((2 * q - 1) * a * max_t)\n",
    "print(np.sqrt(4 * q * (1 - q) * a**2 * max_t))\n"
   ]
  },
  {
   "cell_type": "code",
   "execution_count": null,
   "metadata": {},
   "outputs": [],
   "source": [
    "# b)\n",
    "\n",
    "\n"
   ]
  }
 ],
 "metadata": {
  "kernelspec": {
   "display_name": "Python 3",
   "language": "python",
   "name": "python3"
  },
  "language_info": {
   "codemirror_mode": {
    "name": "ipython",
    "version": 3
   },
   "file_extension": ".py",
   "mimetype": "text/x-python",
   "name": "python",
   "nbconvert_exporter": "python",
   "pygments_lexer": "ipython3",
   "version": "3.8.6"
  }
 },
 "nbformat": 4,
 "nbformat_minor": 4
}
