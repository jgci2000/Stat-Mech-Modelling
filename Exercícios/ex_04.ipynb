{
 "cells": [
  {
   "cell_type": "code",
   "execution_count": 1,
   "metadata": {},
   "outputs": [],
   "source": [
    "import numpy as np\n",
    "import matplotlib.pyplot as plt\n",
    "from scipy.special import gammainc, gammaincinv, gamma"
   ]
  },
  {
   "cell_type": "code",
   "execution_count": 23,
   "metadata": {},
   "outputs": [],
   "source": [
    "def bernoulli(p, r):\n",
    "    if r <= p:\n",
    "        return 1\n",
    "    else:\n",
    "        return 0\n"
   ]
  },
  {
   "cell_type": "code",
   "execution_count": 81,
   "metadata": {},
   "outputs": [
    {
     "name": "stdout",
     "output_type": "stream",
     "text": [
      "nan\n"
     ]
    },
    {
     "name": "stderr",
     "output_type": "stream",
     "text": [
      "<ipython-input-81-adaa75ee88c8>:16: RuntimeWarning: divide by zero encountered in log2\n",
      "  W_teo = 1 + p * np.log2(p) + (1 - p) * np.log2(1) - p\n",
      "<ipython-input-81-adaa75ee88c8>:16: RuntimeWarning: invalid value encountered in double_scalars\n",
      "  W_teo = 1 + p * np.log2(p) + (1 - p) * np.log2(1) - p\n"
     ]
    },
    {
     "data": {
      "text/plain": [
       "[<matplotlib.lines.Line2D at 0x7f4ddda324f0>]"
      ]
     },
     "execution_count": 81,
     "metadata": {},
     "output_type": "execute_result"
    },
    {
     "data": {
      "image/png": "[encoded data removed]",
      "text/plain": [
       "<Figure size 432x288 with 1 Axes>"
      ]
     },
     "metadata": {
      "needs_background": "light"
     },
     "output_type": "display_data"
    }
   ],
   "source": [
    "n_pnts = 10\n",
    "n_run = 1\n",
    "p = 0\n",
    "\n",
    "w = np.zeros(2)\n",
    "w[0] = p\n",
    "w[1] = 1 - p\n",
    "\n",
    "D = np.zeros((n_run, n_pnts))\n",
    "D[:, 0] = 100\n",
    "\n",
    "for run in range(n_run):\n",
    "    for n in range(1, n_pnts):\n",
    "        D[run, n] = D[run, n-1] * 2 * w[bernoulli(p, np.random.rand())]\n",
    "\n",
    "W_teo = 1 + p * np.log2(p) + (1 - p) * np.log2(1) - p\n",
    "print(W_teo)\n",
    "plt.plot(np.arange(0, n_pnts, 1), D[0, :])\n"
   ]
  },
  {
   "cell_type": "code",
   "execution_count": null,
   "metadata": {},
   "outputs": [],
   "source": []
  }
 ],
 "metadata": {
  "kernelspec": {
   "display_name": "Python 3",
   "language": "python",
   "name": "python3"
  },
  "language_info": {
   "codemirror_mode": {
    "name": "ipython",
    "version": 3
   },
   "file_extension": ".py",
   "mimetype": "text/x-python",
   "name": "python",
   "nbconvert_exporter": "python",
   "pygments_lexer": "ipython3",
   "version": "3.8.6"
  }
 },
 "nbformat": 4,
 "nbformat_minor": 4
}
