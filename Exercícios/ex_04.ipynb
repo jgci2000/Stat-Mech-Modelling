{
 "cells": [
  {
   "cell_type": "code",
   "execution_count": 1,
   "metadata": {},
   "outputs": [],
   "source": [
    "import numpy as np\n",
    "import matplotlib.pyplot as plt\n",
    "from scipy.special import gammainc, gammaincinv, gamma"
   ]
  },
  {
   "cell_type": "code",
   "execution_count": 2,
   "metadata": {},
   "outputs": [],
   "source": [
    "def bernoulli(p, r):\n",
    "    if r <= p:\n",
    "        return 1\n",
    "    else:\n",
    "        return 0\n"
   ]
  },
  {
   "cell_type": "code",
   "execution_count": 28,
   "metadata": {},
   "outputs": [
    {
     "name": "stdout",
     "output_type": "stream",
     "text": [
      "0.5310044064107189\n",
      "[0.12500723 0.125      0.12660019 0.125      0.125      0.125064\n",
      " 0.12532    0.1250128  0.13300001 0.12500055]\n",
      "[-inf -inf -inf -inf -inf -inf -inf -inf -inf -inf]\n"
     ]
    },
    {
     "name": "stderr",
     "output_type": "stream",
     "text": [
      "<ipython-input-28-993457213a4b>:27: RuntimeWarning: divide by zero encountered in log2\n",
      "  W[i] = np.log2(D[i, 1:] / D[i, 0]) / np.arange(1, n_pnts, 1)\n"
     ]
    },
    {
     "data": {
      "image/png": "[encoded data removed]",
      "text/plain": [
       "<Figure size 432x288 with 1 Axes>"
      ]
     },
     "metadata": {
      "needs_background": "light"
     },
     "output_type": "display_data"
    }
   ],
   "source": [
    "n_pnts = 1000\n",
    "n_run = 10\n",
    "p = 0.1\n",
    "\n",
    "w = np.zeros(2)\n",
    "w[0] = p\n",
    "w[1] = 1 - p\n",
    "\n",
    "D = np.zeros((n_run, n_pnts))\n",
    "D[:, 0] = 100\n",
    "\n",
    "for run in range(n_run):\n",
    "    for n in range(1, n_pnts):\n",
    "        D[run, n] = D[run, n-1] * 2 * w[bernoulli(p, np.random.rand())]\n",
    "if p == 0:\n",
    "    W_teo = 1 +  (1 - p) * np.log2(1 - p)\n",
    "else:\n",
    "    W_teo = 1 +  (1 - p) * np.log2(1 - p) + p * np.log2(p) \n",
    "print(W_teo)\n",
    "plt.plot(np.arange(0, n_pnts, 1), D[0, :])\n",
    "\n",
    "D_med = np.average(D, axis=1)\n",
    "print(D_med)\n",
    "\n",
    "W = np.zeros((n_run, n_pnts - 1))\n",
    "for i in range(n_run):\n",
    "    W[i] = np.log2(D[i, 1:] / D[i, 0]) / np.arange(1, n_pnts, 1)\n",
    "    \n",
    "print(np.average(W, axis=1))\n",
    "    "
   ]
  },
  {
   "cell_type": "code",
   "execution_count": null,
   "metadata": {},
   "outputs": [],
   "source": []
  }
 ],
 "metadata": {
  "kernelspec": {
   "display_name": "Python 3",
   "language": "python",
   "name": "python3"
  },
  "language_info": {
   "codemirror_mode": {
    "name": "ipython",
    "version": 3
   },
   "file_extension": ".py",
   "mimetype": "text/x-python",
   "name": "python",
   "nbconvert_exporter": "python",
   "pygments_lexer": "ipython3",
   "version": "3.8.6"
  }
 },
 "nbformat": 4,
 "nbformat_minor": 4
}
