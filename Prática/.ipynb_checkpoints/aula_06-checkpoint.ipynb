{
 "cells": [
  {
   "cell_type": "code",
   "execution_count": 1,
   "metadata": {},
   "outputs": [],
   "source": [
    "from scipy.special import gamma, factorial, zeta\n",
    "import numpy as np\n",
    "import matplotlib.pyplot as plt"
   ]
  },
  {
   "cell_type": "code",
   "execution_count": 2,
   "metadata": {},
   "outputs": [],
   "source": [
    "def demon(E0):\n",
    "    n_max = np.minimum(int(np.ceil(np.sqrt(E0**2 - 1))), 20)\n",
    "    nk = np.zeros((n_max, n_max))\n",
    "\n",
    "    ED = E0\n",
    "    E = ED - E0\n",
    "\n",
    "    k = 0\n",
    "    E_mean = 0\n",
    "    ED_mean = 0\n",
    "\n",
    "    t_max = 8000\n",
    "    t_stop = 2000\n",
    "\n",
    "    for t in range(t_max):\n",
    "        for flip in range(n_max**2):\n",
    "            nx_flip = np.random.randint(0, n_max - 1)\n",
    "            ny_flip = np.random.randint(0, n_max - 1)\n",
    "\n",
    "            if np.random.rand(1) <= 0.5:\n",
    "                delta_E = np.sqrt((nx_flip + 1)**2 + (ny_flip + 1)**2)\n",
    "\n",
    "                if delta_E <= ED:\n",
    "                    nk[nx_flip, ny_flip] += 1\n",
    "                    ED += - delta_E\n",
    "                    E += delta_E\n",
    "            else:\n",
    "                delta_E = - np.sqrt((nx_flip + 1)**2 + (ny_flip + 1)**2)\n",
    "\n",
    "                if nk[nx_flip, ny_flip] >= 1:\n",
    "                    nk[nx_flip, ny_flip] += - 1\n",
    "                    ED += - delta_E\n",
    "                    E += delta_E\n",
    "\n",
    "        if t >= t_stop:\n",
    "            k += 1\n",
    "            E_mean += E\n",
    "            ED_mean += ED\n",
    "\n",
    "    E_mean = E_mean / k\n",
    "    ED_mean = ED_mean / k\n",
    "    \n",
    "    return (E_mean, ED_mean)"
   ]
  },
  {
   "cell_type": "code",
   "execution_count": 136,
   "metadata": {},
   "outputs": [
    {
     "name": "stdout",
     "output_type": "stream",
     "text": [
      "0\n",
      "1\n",
      "3\n",
      "5\n",
      "8\n",
      "10\n"
     ]
    },
    {
     "ename": "IndexError",
     "evalue": "index 10 is out of bounds for axis 0 with size 10",
     "output_type": "error",
     "traceback": [
      "\u001b[0;31m---------------------------------------------------------------------------\u001b[0m",
      "\u001b[0;31mIndexError\u001b[0m                                Traceback (most recent call last)",
      "\u001b[0;32m<ipython-input-136-82825ded0612>\u001b[0m in \u001b[0;36m<module>\u001b[0;34m\u001b[0m\n\u001b[1;32m     56\u001b[0m         \u001b[0midx_E\u001b[0m \u001b[0;34m=\u001b[0m \u001b[0mint\u001b[0m\u001b[0;34m(\u001b[0m\u001b[0mnp\u001b[0m\u001b[0;34m.\u001b[0m\u001b[0mfloor\u001b[0m\u001b[0;34m(\u001b[0m\u001b[0;34m(\u001b[0m\u001b[0mnp\u001b[0m\u001b[0;34m.\u001b[0m\u001b[0msqrt\u001b[0m\u001b[0;34m(\u001b[0m\u001b[0mnx\u001b[0m\u001b[0;34m**\u001b[0m\u001b[0;36m2\u001b[0m \u001b[0;34m+\u001b[0m \u001b[0mny\u001b[0m\u001b[0;34m**\u001b[0m\u001b[0;36m2\u001b[0m\u001b[0;34m)\u001b[0m \u001b[0;34m-\u001b[0m \u001b[0mE_vals\u001b[0m\u001b[0;34m[\u001b[0m\u001b[0;36m0\u001b[0m\u001b[0;34m]\u001b[0m\u001b[0;34m)\u001b[0m \u001b[0;34m/\u001b[0m \u001b[0mdE\u001b[0m\u001b[0;34m)\u001b[0m\u001b[0;34m)\u001b[0m\u001b[0;34m\u001b[0m\u001b[0;34m\u001b[0m\u001b[0m\n\u001b[1;32m     57\u001b[0m         \u001b[0mprint\u001b[0m\u001b[0;34m(\u001b[0m\u001b[0midx_E\u001b[0m\u001b[0;34m)\u001b[0m\u001b[0;34m\u001b[0m\u001b[0;34m\u001b[0m\u001b[0m\n\u001b[0;32m---> 58\u001b[0;31m         \u001b[0mnE\u001b[0m\u001b[0;34m[\u001b[0m\u001b[0midx_E\u001b[0m\u001b[0;34m]\u001b[0m \u001b[0;34m+=\u001b[0m \u001b[0mnk_mean\u001b[0m\u001b[0;34m[\u001b[0m\u001b[0mnx\u001b[0m \u001b[0;34m-\u001b[0m \u001b[0;36m1\u001b[0m\u001b[0;34m,\u001b[0m \u001b[0mny\u001b[0m\u001b[0;34m-\u001b[0m \u001b[0;36m1\u001b[0m\u001b[0;34m]\u001b[0m\u001b[0;34m\u001b[0m\u001b[0;34m\u001b[0m\u001b[0m\n\u001b[0m\u001b[1;32m     59\u001b[0m \u001b[0;34m\u001b[0m\u001b[0m\n\u001b[1;32m     60\u001b[0m \u001b[0;34m\u001b[0m\u001b[0m\n",
      "\u001b[0;31mIndexError\u001b[0m: index 10 is out of bounds for axis 0 with size 10"
     ]
    }
   ],
   "source": [
    "# Exercício 28\n",
    "\n",
    "E0 = 10\n",
    "n_max = int(np.ceil(np.sqrt(E0**2 - 1)))\n",
    "nk = np.zeros((n_max, n_max))\n",
    "\n",
    "ED = E0\n",
    "E = E0 - ED\n",
    "\n",
    "k = 0\n",
    "E_mean = 0\n",
    "ED_mean = 0\n",
    "nk_mean = np.zeros((n_max, n_max))\n",
    "\n",
    "t_max = 3000\n",
    "t_stop = 2000\n",
    "\n",
    "for t in range(t_max):\n",
    "    for flip in range(n_max**2):\n",
    "        nx_flip = np.random.randint(0, n_max - 1)\n",
    "        ny_flip = np.random.randint(0, n_max - 1)\n",
    "        \n",
    "        if np.random.rand(1) <= 0.5:\n",
    "            delta_E = np.sqrt((nx_flip + 1)**2 + (ny_flip + 1)**2)\n",
    "            \n",
    "            if delta_E <= ED:\n",
    "                nk[nx_flip, ny_flip] += 1\n",
    "                ED += - delta_E\n",
    "                E += delta_E\n",
    "        else:\n",
    "            delta_E = - np.sqrt((nx_flip + 1)**2 + (ny_flip + 1)**2)\n",
    "            \n",
    "            if nk[nx_flip, ny_flip] >= 1:\n",
    "                nk[nx_flip, ny_flip] += - 1\n",
    "                ED += - delta_E\n",
    "                E += delta_E\n",
    "\n",
    "    if t >= t_stop:\n",
    "        k += 1\n",
    "        E_mean += E\n",
    "        ED_mean += ED\n",
    "        nk_mean += nk\n",
    "\n",
    "E_mean = E_mean / k\n",
    "ED_mean = ED_mean / k\n",
    "nk_mean = nk_mean / k\n",
    "    \n",
    "E_vals = np.linspace(np.sqrt(2), E0, 20)\n",
    "dE = E_vals[1] - E_vals[0]\n",
    "\n",
    "idx_E = np.zeros(n_max)\n",
    "nE = np.zeros(n_max)\n",
    "\n",
    "for nx in range(1, n_max + 1):\n",
    "    for ny in range(1, n_max + 1):\n",
    "        idx_E = int(np.floor((np.sqrt(nx**2 + ny**2) - E_vals[0]) / dE))\n",
    "        print(idx_E)\n",
    "        nE[idx_E] += nk_mean[nx - 1, ny- 1]\n",
    "        \n",
    "\n",
    "E_mean_teo = np.pi * ED_mean**3 * zeta(3)\n",
    "\n",
    "print(\"Computed values: \")\n",
    "print(f\"E_mean: {E_mean}\")\n",
    "print(f\"T: {ED_mean}\")\n",
    "\n",
    "print(\"Theoretical values: \")\n",
    "print(f\"E_mean: {E_mean_teo}\")\n"
   ]
  },
  {
   "cell_type": "code",
   "execution_count": 117,
   "metadata": {},
   "outputs": [
    {
     "name": "stdout",
     "output_type": "stream",
     "text": [
      "Ended simulation at T=0.7002714156350309\n",
      "Ended simulation at T=2.1390747457200208\n",
      "Ended simulation at T=2.63765753024573\n",
      "Ended simulation at T=2.9286651915503854\n",
      "Ended simulation at T=3.3136498169151674\n"
     ]
    },
    {
     "data": {
      "image/png": "[encoded data removed]",
      "text/plain": [
       "<Figure size 432x288 with 1 Axes>"
      ]
     },
     "metadata": {
      "needs_background": "light"
     },
     "output_type": "display_data"
    }
   ],
   "source": [
    "E0_vals = np.linspace(np.sqrt(2), 80 * np.sqrt(2), 5)\n",
    "\n",
    "T = np.zeros(len(E0_vals))\n",
    "E_mean = np.zeros(len(E0_vals))\n",
    "nE = list()\n",
    "\n",
    "k = 0\n",
    "for E0 in E0_vals:\n",
    "    (E_mean[k], T[k]) = demon(E0)\n",
    "    print(f\"Ended simulation at T={T[k]}\")\n",
    "    k += 1\n",
    "\n",
    "T_teo = np.linspace(np.min(T), np.max(T), 100)\n",
    "E_mean_teo = np.pi * T_teo**3 * zeta(3)\n",
    "\n",
    "plt.figure(1)\n",
    "plt.plot(T, E_mean, '-or')\n",
    "plt.plot(T_teo, E_mean_teo, '-b')\n",
    "\n",
    "plt.show()\n"
   ]
  },
  {
   "cell_type": "code",
   "execution_count": null,
   "metadata": {},
   "outputs": [],
   "source": []
  }
 ],
 "metadata": {
  "kernelspec": {
   "display_name": "Python 3",
   "language": "python",
   "name": "python3"
  },
  "language_info": {
   "codemirror_mode": {
    "name": "ipython",
    "version": 3
   },
   "file_extension": ".py",
   "mimetype": "text/x-python",
   "name": "python",
   "nbconvert_exporter": "python",
   "pygments_lexer": "ipython3",
   "version": "3.8.6"
  }
 },
 "nbformat": 4,
 "nbformat_minor": 4
}
