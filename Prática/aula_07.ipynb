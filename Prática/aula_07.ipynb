{
 "cells": [
  {
   "cell_type": "code",
   "execution_count": 40,
   "metadata": {},
   "outputs": [],
   "source": [
    "import numpy as np\n",
    "import matplotlib.pyplot as plt\n",
    "import time"
   ]
  },
  {
   "cell_type": "code",
   "execution_count": 5,
   "metadata": {},
   "outputs": [],
   "source": [
    "# Exercício 32 -> Algoritmo de Metropolis para gases ideais quânticos de bosoes"
   ]
  },
  {
   "cell_type": "code",
   "execution_count": 38,
   "metadata": {},
   "outputs": [],
   "source": [
    "def NN_create(n_max):\n",
    "    NN_table = np.zeros((n_max * n_max, 4)) - 1\n",
    "    NN = np.zeros(n_max*n_max)\n",
    "    \n",
    "    for i in range(n_max**2):\n",
    "        nx = i % n_max\n",
    "        ny = i // n_max\n",
    "        \n",
    "        n = 0\n",
    "    \n",
    "        nx1 = nx + 1\n",
    "        ny1 = ny\n",
    "        if nx1 < n_max:\n",
    "            NN_table[i, n] = nx1 + n_max * ny1\n",
    "            n += 1\n",
    "\n",
    "        nx2 = nx - 1\n",
    "        ny2 = ny\n",
    "        if nx2 < n_max and nx2 >= 0:\n",
    "            NN_table[i, n] = nx2 + n_max * ny2\n",
    "            n += 1\n",
    "\n",
    "        nx3 = nx\n",
    "        ny3 = ny + 1\n",
    "        if ny3 < n_max: \n",
    "            NN_table[i, n] = nx3 + n_max * ny3\n",
    "            n += 1\n",
    "\n",
    "        nx4 = nx\n",
    "        ny4 = ny - 1\n",
    "        if ny4 < n_max and ny4 >= 0:\n",
    "            NN_table[i, n] = nx4 + n_max * ny4\n",
    "            n += 1\n",
    "        \n",
    "        NN[i] = n\n",
    "        \n",
    "    return (NN_table, NN)\n",
    "    "
   ]
  },
  {
   "cell_type": "code",
   "execution_count": 35,
   "metadata": {},
   "outputs": [],
   "source": [
    "def metropolis(T, eq_it, n_it, N, n_max):\n",
    "    nk = np.zeros(n_max * n_max)\n",
    "    nk[0] = N\n",
    "    E = 2 * N\n",
    "    \n",
    "    states = np.zeros(N)\n",
    "    \n",
    "    (NN_table, NN) = NN_create(N)\n",
    "    \n",
    "    for t in range(eq_it + n_it):\n",
    "        for a in range(N):\n",
    "            idx_p = np.random.randint(N)\n",
    "            \n",
    "            \n",
    "            \n",
    "            "
   ]
  },
  {
   "cell_type": "code",
   "execution_count": 45,
   "metadata": {},
   "outputs": [
    {
     "name": "stdout",
     "output_type": "stream",
     "text": [
      "(array([[ 1.,  2., -1., -1.],\n",
      "       [ 0.,  3., -1., -1.],\n",
      "       [ 3.,  0., -1., -1.],\n",
      "       [ 2.,  1., -1., -1.]]), array([2., 2., 2., 2.]))\n"
     ]
    }
   ],
   "source": [
    "T_vals = np.linspace(3, 300, 30)\n",
    "\n",
    "for i, T in enumerate(T_vals):\n",
    "    metropolis(T, eq_it, n_it, n_max)\n",
    "\n"
   ]
  },
  {
   "cell_type": "code",
   "execution_count": null,
   "metadata": {},
   "outputs": [],
   "source": []
  }
 ],
 "metadata": {
  "kernelspec": {
   "display_name": "Python 3",
   "language": "python",
   "name": "python3"
  },
  "language_info": {
   "codemirror_mode": {
    "name": "ipython",
    "version": 3
   },
   "file_extension": ".py",
   "mimetype": "text/x-python",
   "name": "python",
   "nbconvert_exporter": "python",
   "pygments_lexer": "ipython3",
   "version": "3.8.5"
  }
 },
 "nbformat": 4,
 "nbformat_minor": 4
}
